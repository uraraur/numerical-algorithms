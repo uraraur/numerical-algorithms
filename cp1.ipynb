{
 "cells": [
  {
   "cell_type": "code",
   "execution_count": 73,
   "metadata": {},
   "outputs": [],
   "source": [
    "import numpy as np\n",
    "import sympy as sym\n",
    "\n",
    "f = lambda x: 6 * x**5 - 3 * x**4 + x**3 + 2 * x**2 -4 * x + 2 \n",
    "df =  lambda x: 30 * x**4 - 12 * x**3 + 3 * x**2 + 4 * x - 4\n",
    "\n",
    "intervals = [[-1, -0.4], [0.33, 1.6]]\n",
    "epsilon = 0.00000001\n"
   ]
  },
  {
   "cell_type": "code",
   "execution_count": 74,
   "metadata": {},
   "outputs": [],
   "source": [
    "def bisection_method(a, b, f):\n",
    "    i = 0\n",
    "    if f(a) * f(b) >= 0:\n",
    "        return (\"The scalars a and b do not bound a root\"), 0\n",
    "    while abs(a-b) > epsilon:\n",
    "        c = (a + b) / 2\n",
    "        if f(a) * f(c) <= 0:\n",
    "            b = c\n",
    "        elif f(b) * f(c) <= 0:\n",
    "            a = c\n",
    "        i = i + 1\n",
    "    return (a + b) / 2, i\n",
    "\n",
    "\n",
    "def chord_method(a, b, f):\n",
    "    c_prev = 0\n",
    "    c = (a * f(b) - b * f(a)) / (f(b) - f(a))\n",
    "    i = 0\n",
    "    if f(a) * f(b) >= 0:\n",
    "        return (\"The scalars a and b do not bound a root\"), 0\n",
    "    while abs(c - c_prev) > epsilon or abs(f(c)) > epsilon:\n",
    "        c = (a * f(b) - b * f(a)) / (f(b) - f(a))\n",
    "        if f(a) * f(c) <= 0:\n",
    "            c_prev = b\n",
    "            b = c\n",
    "        elif f(b) * f(c) <= 0:\n",
    "            c_prev = a\n",
    "            a = c\n",
    "        i = i + 1\n",
    "    return c, i\n",
    "\n",
    "def newton_method(x0, f):\n",
    "    i = 0\n",
    "    x1 = x0 - (f(x0) / df(x0))\n",
    "    while abs(x1 - x0) > epsilon or abs(f(x1)) > epsilon:\n",
    "        if df(x1) == 0:\n",
    "            return ('Zero derivative. No solution found.'), 0\n",
    "        x1 = x0 - (f(x0) / df(x0))\n",
    "        x0 = x1\n",
    "        i = i + 1\n",
    "    return x1, i\n",
    "        "
   ]
  },
  {
   "cell_type": "code",
   "execution_count": 75,
   "metadata": {},
   "outputs": [
    {
     "name": "stdout",
     "output_type": "stream",
     "text": [
      "Bisection method: \n",
      "Root on [-1, -0.4] : -0.938258270919323\n",
      "\tNumber of iterations: 26\n",
      "Root on [0.33, 1.6] : The scalars a and b do not bound a root\n",
      "\tNumber of iterations: 0\n",
      "Secant method: \n",
      "Root on [-1, -0.4] : -0.9382582703422411\n",
      "\tNumber of iterations: 11\n",
      "Root on [0.33, 1.6] : The scalars a and b do not bound a root\n",
      "\tNumber of iterations: 0\n",
      "Newton method: \n",
      "Root on [-1, -0.4] : -0.9382582706896583\n",
      "\tNumber of iterations: 4\n",
      "Root on [0.33, 1.6] : -0.9382582706896537\n",
      "\tNumber of iterations: 14\n"
     ]
    }
   ],
   "source": [
    "print(\"Bisection method: \")\n",
    "for x in intervals:\n",
    "    res, iterations = bisection_method(x[0], x[1], f)\n",
    "    print(f\"Root on {x} : {res}\")\n",
    "    print(f\"\\tNumber of iterations: {iterations}\")\n",
    "\n",
    "print(\"Secant method: \")\n",
    "for x in intervals:\n",
    "    res, iterations = chord_method(x[0], x[1], f)\n",
    "    print(f\"Root on {x} : {res}\")\n",
    "    print(f\"\\tNumber of iterations: {iterations}\")\n",
    "\n",
    "print(\"Newton method: \")\n",
    "for x in intervals:\n",
    "    res, iterations = newton_method(x[0], f)\n",
    "    print(f\"Root on {x} : {res}\")\n",
    "    print(f\"\\tNumber of iterations: {iterations}\")\n"
   ]
  }
 ],
 "metadata": {
  "kernelspec": {
   "display_name": "Python 3",
   "language": "python",
   "name": "python3"
  },
  "language_info": {
   "codemirror_mode": {
    "name": "ipython",
    "version": 3
   },
   "file_extension": ".py",
   "mimetype": "text/x-python",
   "name": "python",
   "nbconvert_exporter": "python",
   "pygments_lexer": "ipython3",
   "version": "3.10.10"
  },
  "orig_nbformat": 4
 },
 "nbformat": 4,
 "nbformat_minor": 2
}
