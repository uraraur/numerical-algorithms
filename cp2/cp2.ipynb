{
 "cells": [
  {
   "cell_type": "code",
   "execution_count": 8,
   "metadata": {},
   "outputs": [],
   "source": [
    "import numpy as np\n",
    "np.set_printoptions(precision=1)"
   ]
  },
  {
   "cell_type": "code",
   "execution_count": 9,
   "metadata": {},
   "outputs": [],
   "source": [
    "A = np.matrix([[7.03, 1.22, 0.85, 1.135, -0.81],\n",
    "     [0.98, 3.39, 1.3, -1.63, 0.57],\n",
    "     [1.09, -2.46, 6.21, 2.1, 1.033],\n",
    "     [1.345, 0.16, 2.1, 5.33, -12],\n",
    "     [1.29, -1.23, -0.767, 6, 1]])\n",
    "b = np.matrix([[2.1],\n",
    "     [0.84],\n",
    "     [2.58],\n",
    "     [11.96],\n",
    "     [-1.47]])\n",
    "n = 5"
   ]
  },
  {
   "attachments": {},
   "cell_type": "markdown",
   "metadata": {},
   "source": [
    "\n",
    "\\begin{equation*}\n",
    "A = \n",
    "\\begin{pmatrix}\n",
    "7.03 & 1.22 & 0.85 & 1.135 & -0.81\\\\\n",
    "0.98 & 3.39 & 1.3 & 1.63 & 0.57\\\\\n",
    "1.09 & -2.46 & 6.21 & 2.1 & 1.033\\\\\n",
    "1.345 & 0.16 & 2.1 & 5.33 & -12\\\\\n",
    "1.29 & -1.23 & -0.767 & 6 & 1\n",
    "\\end{pmatrix}\n",
    "\\end{equation*}"
   ]
  },
  {
   "attachments": {},
   "cell_type": "markdown",
   "metadata": {},
   "source": [
    "\\begin{equation*}\n",
    "b = \n",
    "\\begin{pmatrix}\n",
    "2.1 \\\\\n",
    "0.84 \\\\\n",
    "2.58 \\\\\n",
    "11.96 \\\\\n",
    "-1.47 \n",
    "\\end{pmatrix}\n",
    "\\end{equation*}"
   ]
  },
  {
   "cell_type": "code",
   "execution_count": 10,
   "metadata": {},
   "outputs": [
    {
     "name": "stdout",
     "output_type": "stream",
     "text": [
      "x = [ 0.1  0.1  0.6 -0.  -0.9]\n",
      "\n",
      "\n",
      "Перевірка:\n",
      "\n",
      " [[ 0.]\n",
      " [-0.]\n",
      " [-0.]\n",
      " [ 0.]\n",
      " [ 0.]]\n"
     ]
    },
    {
     "data": {
      "text/plain": [
       "array([ 0.1,  0.1,  0.6, -0. , -0.9])"
      ]
     },
     "execution_count": 10,
     "metadata": {},
     "output_type": "execute_result"
    }
   ],
   "source": [
    "def gauss(A, b):\n",
    "    A_k = A.copy()\n",
    "    b_k = b.copy()\n",
    "    x = np.zeros(n)\n",
    "\n",
    "    j = 0\n",
    "    for i in range(n):\n",
    "        for j in range(n):\n",
    "            if j != i:\n",
    "                b_k[j] = b_k[j] - (A_k.item(j, i) / A_k.item(i, i)) * b_k[i]\n",
    "                A_k[j] = A_k[j] - (A_k.item(j, i) / A_k.item(i, i)) * A_k[i]\n",
    "    for i in range(n):\n",
    "        x[i] = b_k[i] / A_k.item(i,i)\n",
    "    print(f\"x = {x}\\n\\n\")\n",
    "    mat = np.asmatrix(x)\n",
    "    mat1 = mat.getT()\n",
    "\n",
    "\n",
    "    print(f\"Перевірка:\\n\\n {(A * mat1 - b).round()}\")\n",
    "\n",
    "    return x\n",
    "gauss(A, b)\n"
   ]
  },
  {
   "cell_type": "code",
   "execution_count": 11,
   "metadata": {},
   "outputs": [],
   "source": [
    "def m_i(matrix, p, q):\n",
    "    m = np.zeros(n)\n",
    "    i = 0\n",
    "    while i != n:\n",
    "        if i != p:\n",
    "            ##print(f\"----------------- \\n\\n {matrix.item(i,q)} \\n {matrix.item(p,q)}\")\n",
    "            m[i] = (matrix.item(i,q) / matrix.item(p,q))\n",
    "            ##print(f\"{m[i]}\\n\\n ----------------- \")\n",
    "        i = i + 1\n",
    "    m[p] = 0\n",
    "    return m\n",
    "\n",
    "A_k = A.copy()\n",
    "b_k = b.copy()\n",
    "x = np.zeros(n)\n",
    "\n",
    "while n - 1 > 1:\n",
    "    a_max = A_k.flat[np.abs(A_k).argmax()]  \n",
    "    p, q = np.unravel_index(abs(A_k).argmax(), A_k.shape)\n",
    "    m = m_i(A_k, p, q)\n",
    "\n",
    "    for i in range(n):\n",
    "        ##print(f\"{i}  {A_k[p]} \\n {A_k[p] * m[i]} \\n\")\n",
    "        ##print(f\"{A_k[i]} \\n\")\n",
    "        A_k[i] = A_k[i] - (m[i] * A_k[p])\n",
    "        ##print(f\"{A_k[i]} \\n\")\n",
    "        b_k[i] = b_k[i] - (m[i] * b_k[p])\n",
    "\n",
    "    ##print(f\"{p} \\n {q} \\n\")\n",
    "    ##print(f\"{b_k} \\n\\n {A_k} \\n\")\n",
    "    ##print(f\"{b_k.item(p, 0)} \\n {A_k.item(p,q)} \\n\")\n",
    "    x[p] = b_k.item(p, 0) / A_k.item(p,q)\n",
    "    ##print(f\"{x[p]} \\n\\n\")\n",
    "    A_k = np.delete(A_k, p, 0)\n",
    "    A_k = np.delete(A_k, q, 1)\n",
    "    b_k = np.delete(b_k, p, 0)\n",
    "    n = n - 1\n",
    "\n",
    "mat = np.asmatrix(x)\n",
    "mat1 = mat.getT()\n",
    "##print(\"|\"*20)\n",
    "##print(f\"{A} \\n\\n {mat1} \\n\\n {b} \\n\\n\")\n",
    "##print(A * mat1 - b)\n",
    "\n"
   ]
  }
 ],
 "metadata": {
  "kernelspec": {
   "display_name": "Python 3",
   "language": "python",
   "name": "python3"
  },
  "language_info": {
   "codemirror_mode": {
    "name": "ipython",
    "version": 3
   },
   "file_extension": ".py",
   "mimetype": "text/x-python",
   "name": "python",
   "nbconvert_exporter": "python",
   "pygments_lexer": "ipython3",
   "version": "3.10.11"
  },
  "orig_nbformat": 4,
  "vscode": {
   "interpreter": {
    "hash": "a8709878bbb7ee4bccb0ce1f22db97ace190e01048cb548b17c51bb7b02146f2"
   }
  }
 },
 "nbformat": 4,
 "nbformat_minor": 2
}
