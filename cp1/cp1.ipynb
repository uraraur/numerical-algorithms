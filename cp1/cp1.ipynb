{
 "cells": [
  {
   "cell_type": "code",
   "execution_count": 80,
   "metadata": {},
   "outputs": [],
   "source": [
    "import numpy as np\n",
    "import sympy as sym\n",
    "\n",
    "\n",
    "\n",
    "f = lambda x: x**5 - 3*x**4 + 7*x**2 - 3\n",
    "df =  lambda x: 30 * x**4 - 12 * x**3 + 3 * x**2 + 4 * x - 4\n",
    "\n",
    "intervals = [[0.395, 3.1], [-2.442, -0.395]]\n",
    "epsilon = 0.0001\n"
   ]
  },
  {
   "cell_type": "code",
   "execution_count": 81,
   "metadata": {},
   "outputs": [],
   "source": [
    "def bisection_method(a, b, f):\n",
    "    i = 0\n",
    "    if f(a) * f(b) > 0:\n",
    "        return (\"The scalars a and b do not bound a root\"), 0\n",
    "    while abs(a-b) > epsilon:\n",
    "        c = (a + b) / 2\n",
    "        if f(a) * f(c) <= 0:\n",
    "            b = c\n",
    "        elif f(b) * f(c) <= 0:\n",
    "            a = c\n",
    "        i = i + 1\n",
    "        #print(f\"\\tItr №: {i}, approx. root value: {(a + b) / 2}\")\n",
    "    return (a + b) / 2, i\n",
    "\n",
    "\n",
    "def secant_method(a, b, f):\n",
    "    c_prev = 0\n",
    "    c = (a * f(b) - b * f(a)) / (f(b) - f(a))\n",
    "    i = 0\n",
    "    if f(a) * f(b) > 0:\n",
    "        return (\"The scalars a and b do not bound a root\"), 0\n",
    "    while abs(c - c_prev) > epsilon or abs(f(c)) > epsilon:\n",
    "        c = (a * f(b) - b * f(a)) / (f(b) - f(a))\n",
    "        if f(a) * f(c) <= 0:\n",
    "            c_prev = b\n",
    "            b = c\n",
    "        elif f(b) * f(c) <= 0:\n",
    "            c_prev = a\n",
    "            a = c\n",
    "        i = i + 1\n",
    "        #print(f\"\\tItr №: {i}, approx. root value: {c}\")     \n",
    "    return c, i\n",
    "\n",
    "def newton_method(x0, f):\n",
    "    i = 0\n",
    "    x1 = 0\n",
    "    while abs(x1 - x0) > epsilon or abs(f(x1)) > epsilon:\n",
    "        x1 = x0 - (f(x0) / df(x0))\n",
    "        if df(x1) == 0:\n",
    "            return ('Zero derivative. No solution found.'), 0\n",
    "        x0 = x1\n",
    "        i = i + 1\n",
    "        #print(f\"\\tItr №: {i}, approx. root value:: {x1}\")\n",
    "    return x1, i\n",
    "\n",
    "def Newthon_method(x):\n",
    "    y = 0\n",
    "    while abs(f(x)) > epsilon:\n",
    "        y = x - f(x)/df(x)\n",
    "        x = y\n",
    "    return(y)\n",
    "        \n"
   ]
  },
  {
   "cell_type": "code",
   "execution_count": 82,
   "metadata": {},
   "outputs": [
    {
     "name": "stdout",
     "output_type": "stream",
     "text": [
      "Bisection method: \n",
      "Root on [0.395, 3.1] : 0.7176468658447266\n",
      "\tNumber of iterations: 15\n",
      "Root on [-2.442, -0.395] : The scalars a and b do not bound a root\n",
      "\tNumber of iterations: 0\n",
      "# -------------------\n",
      "Secant method: \n",
      "Root on [0.395, 3.1] : 0.7176719569106587\n",
      "\tNumber of iterations: 40\n",
      "Root on [-2.442, -0.395] : The scalars a and b do not bound a root\n",
      "\tNumber of iterations: 0\n",
      "# -------------------\n",
      "Newton method: \n",
      "Root on [0.395, 3.1] : -1.000032604775155\n",
      "\tNumber of iterations: 135\n",
      "Root on [-2.442, -0.395] : -1.000030933810398\n",
      "\tNumber of iterations: 118\n"
     ]
    }
   ],
   "source": [
    "print(\"Bisection method: \")\n",
    "for x in intervals:\n",
    "    res, iterations = bisection_method(x[0], x[1], f)\n",
    "    print(f\"Root on {x} : {res}\")\n",
    "    print(f\"\\tNumber of iterations: {iterations}\")\n",
    "\n",
    "print('# -------------------')\n",
    "\n",
    "print(\"Secant method: \")\n",
    "for x in intervals:\n",
    "    res, iterations = secant_method(x[0], x[1], f)\n",
    "    print(f\"Root on {x} : {res}\")\n",
    "    print(f\"\\tNumber of iterations: {iterations}\")\n",
    "\n",
    "print('# -------------------')\n",
    "\n",
    "print(\"Newton method: \")\n",
    "for x in intervals:\n",
    "    res, iterations = newton_method(x[0], f)\n",
    "    print(f\"Root on {x} : {res}\")\n",
    "    print(f\"\\tNumber of iterations: {iterations}\")\n"
   ]
  }
 ],
 "metadata": {
  "kernelspec": {
   "display_name": "Python 3",
   "language": "python",
   "name": "python3"
  },
  "language_info": {
   "codemirror_mode": {
    "name": "ipython",
    "version": 3
   },
   "file_extension": ".py",
   "mimetype": "text/x-python",
   "name": "python",
   "nbconvert_exporter": "python",
   "pygments_lexer": "ipython3",
   "version": "3.10.11"
  },
  "orig_nbformat": 4
 },
 "nbformat": 4,
 "nbformat_minor": 2
}
