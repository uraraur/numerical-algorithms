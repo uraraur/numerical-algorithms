{
 "cells": [
  {
   "cell_type": "code",
   "execution_count": 411,
   "metadata": {},
   "outputs": [],
   "source": [
    "import numpy as np"
   ]
  },
  {
   "cell_type": "code",
   "execution_count": 412,
   "metadata": {},
   "outputs": [],
   "source": [
    "A = np.matrix([[7.03, 1.22, 0.85, 1.135, -0.81],\n",
    "     [0.98, 3.39, 1.3, -1.63, 0.57],\n",
    "     [1.09, -2.46, 6.21, 2.1, 1.033],\n",
    "     [1.345, 0.16, 2.1, 5.33, -12],\n",
    "     [1.29, -1.23, -0.767, 6, 1]])\n",
    "b = np.matrix([[2.1],\n",
    "     [0.84],\n",
    "     [2.58],\n",
    "     [11.96],\n",
    "     [-1.47]])\n",
    "n = 5"
   ]
  },
  {
   "cell_type": "code",
   "execution_count": 413,
   "metadata": {},
   "outputs": [
    {
     "name": "stdout",
     "output_type": "stream",
     "text": [
      "[[  6.9392125    1.2092       0.70825      0.775225     0.        ]\n",
      " [  1.0438875    3.3976       1.39975     -1.376825     0.        ]\n",
      " [  1.20578208  -2.44622667   6.390775     2.55882417   0.        ]\n",
      " [  1.345        0.16         2.1          5.33       -12.        ]\n",
      " [  1.40208333  -1.21666667  -0.592        6.44416667   0.        ]]\n",
      "\n",
      "[[ 1.2927    ]\n",
      " [ 1.4081    ]\n",
      " [ 3.60955667]\n",
      " [11.96      ]\n",
      " [-0.47333333]]\n",
      "\n",
      "[[ 6.9392125   1.2092      0.70825     0.775225  ]\n",
      " [ 0.          3.21569625  1.29320573 -1.49344453]\n",
      " [ 0.         -2.65634153  6.26770698  2.42411833]\n",
      " [ 0.         -1.46098822 -0.73510349  6.28753073]]\n",
      "\n",
      "[[ 1.2927    ]\n",
      " [ 1.21363508]\n",
      " [ 3.38493255]\n",
      " [-0.73452625]]\n",
      "\n",
      "[[ 2.86867531  1.11860042  0.        ]\n",
      " [-2.09306662  6.55112155  0.        ]\n",
      " [-1.46098822 -0.73510349  6.28753073]]\n",
      "\n",
      "[[ 1.03916688]\n",
      " [ 3.66812457]\n",
      " [-0.73452625]]\n",
      "\n"
     ]
    }
   ],
   "source": [
    "def m_i(matrix, p, q):\n",
    "    m = np.empty(n)\n",
    "    i = 0\n",
    "    while i != p:\n",
    "        m[i] = (matrix.item(i,q) / matrix.item(p,q))\n",
    "        i = i + 1    \n",
    "    i = i + 1\n",
    "    while i != n:\n",
    "        m[i] = (matrix.item(i,q) / matrix.item(p,q))\n",
    "        i = i + 1\n",
    "    m[p] = 0\n",
    "    return m\n",
    "\n",
    "def absmaxND(a, axis=None):\n",
    "    amax = a.max(axis)\n",
    "    amin = a.min(axis)\n",
    "    return np.where(-amin > amax, amin, amax)\n",
    "\n",
    "A_k = A\n",
    "b_k = b\n",
    "while n - 1 > 1:\n",
    "    ##a_max = A_k.max()\n",
    "    a_max = A_k.flat[np.abs(A_k).argmax()]  \n",
    "    p, q = np.unravel_index(abs(A_k).argmax(), A_k.shape)\n",
    "    m = m_i(A_k, p, q)\n",
    "    for i in range(n):\n",
    "        A_k[i] = A_k[i] - m[i] * A_k[p]\n",
    "        b_k[i] = b_k[i] - m[i] * b_k[p]\n",
    "        i = i + 1\n",
    "    print(f\"{A_k}\\n\")\n",
    "    print(f\"{b_k}\\n\")\n",
    "    A_k = np.delete(A_k, p, 0)\n",
    "    A_k = np.delete(A_k, q, 1)\n",
    "    b_k = np.delete(b_k, p, 0)\n",
    "    n = n - 1\n",
    "\n",
    "\n"
   ]
  }
 ],
 "metadata": {
  "kernelspec": {
   "display_name": "Python 3",
   "language": "python",
   "name": "python3"
  },
  "language_info": {
   "codemirror_mode": {
    "name": "ipython",
    "version": 3
   },
   "file_extension": ".py",
   "mimetype": "text/x-python",
   "name": "python",
   "nbconvert_exporter": "python",
   "pygments_lexer": "ipython3",
   "version": "3.10.10"
  },
  "orig_nbformat": 4
 },
 "nbformat": 4,
 "nbformat_minor": 2
}
