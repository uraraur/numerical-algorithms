{
 "cells": [
  {
   "cell_type": "code",
   "execution_count": 29,
   "metadata": {},
   "outputs": [],
   "source": [
    "import numpy as np"
   ]
  },
  {
   "cell_type": "code",
   "execution_count": 30,
   "metadata": {},
   "outputs": [],
   "source": [
    "A = np.matrix([[7.03, 1.22, 0.85, 1.135, -0.81],\n",
    "     [0.98, 3.39, 1.3, -1.63, 0.57],\n",
    "     [1.09, -2.46, 6.21, 2.1, 1.033],\n",
    "     [1.345, 0.16, 2.1, 5.33, -12],\n",
    "     [1.29, -1.23, -0.767, 6, 1]])\n",
    "b = np.matrix([[2.1],\n",
    "     [0.84],\n",
    "     [2.58],\n",
    "     [11.96],\n",
    "     [-1.47]])\n",
    "n = 5"
   ]
  },
  {
   "cell_type": "code",
   "execution_count": 31,
   "metadata": {},
   "outputs": [
    {
     "name": "stdout",
     "output_type": "stream",
     "text": [
      "[ 0.10455003  0.12796908  0.60080894 -0.01684416 -0.88558215]\n",
      "[[ 0.00000000e+00]\n",
      " [-8.88178420e-16]\n",
      " [-8.88178420e-16]\n",
      " [ 0.00000000e+00]\n",
      " [ 1.55431223e-15]]\n"
     ]
    }
   ],
   "source": [
    "A_k = A.copy()\n",
    "b_k = b.copy()\n",
    "x = np.zeros(n)\n",
    "\n",
    "j = 0\n",
    "for i in range(n):\n",
    "    for j in range(n):\n",
    "        if j != i:\n",
    "            b_k[j] = b_k[j] - (A_k.item(j, i) / A_k.item(i, i)) * b_k[i]\n",
    "            A_k[j] = A_k[j] - (A_k.item(j, i) / A_k.item(i, i)) * A_k[i]\n",
    "for i in range(n):\n",
    "    x[i] = b_k[i] / A_k.item(i,i)\n",
    "mat = np.asmatrix(x)\n",
    "mat1 = mat.getT()\n",
    "print(x)\n",
    "\n",
    "print(A * mat1 - b)\n"
   ]
  },
  {
   "cell_type": "code",
   "execution_count": 32,
   "metadata": {},
   "outputs": [],
   "source": [
    "def m_i(matrix, p, q):\n",
    "    m = np.zeros(n)\n",
    "    i = 0\n",
    "    while i != n:\n",
    "        if i != p:\n",
    "            ##print(f\"----------------- \\n\\n {matrix.item(i,q)} \\n {matrix.item(p,q)}\")\n",
    "            m[i] = (matrix.item(i,q) / matrix.item(p,q))\n",
    "            ##print(f\"{m[i]}\\n\\n ----------------- \")\n",
    "        i = i + 1\n",
    "    m[p] = 0\n",
    "    return m\n",
    "\n",
    "A_k = A.copy()\n",
    "b_k = b.copy()\n",
    "x = np.zeros(n)\n",
    "\n",
    "while n - 1 > 1:\n",
    "    a_max = A_k.flat[np.abs(A_k).argmax()]  \n",
    "    p, q = np.unravel_index(abs(A_k).argmax(), A_k.shape)\n",
    "    m = m_i(A_k, p, q)\n",
    "\n",
    "    for i in range(n):\n",
    "        ##print(f\"{i}  {A_k[p]} \\n {A_k[p] * m[i]} \\n\")\n",
    "        ##print(f\"{A_k[i]} \\n\")\n",
    "        A_k[i] = A_k[i] - (m[i] * A_k[p])\n",
    "        ##print(f\"{A_k[i]} \\n\")\n",
    "        b_k[i] = b_k[i] - (m[i] * b_k[p])\n",
    "\n",
    "    ##print(f\"{p} \\n {q} \\n\")\n",
    "    ##print(f\"{b_k} \\n\\n {A_k} \\n\")\n",
    "    ##print(f\"{b_k.item(p, 0)} \\n {A_k.item(p,q)} \\n\")\n",
    "    x[p] = b_k.item(p, 0) / A_k.item(p,q)\n",
    "    ##print(f\"{x[p]} \\n\\n\")\n",
    "    A_k = np.delete(A_k, p, 0)\n",
    "    A_k = np.delete(A_k, q, 1)\n",
    "    b_k = np.delete(b_k, p, 0)\n",
    "    n = n - 1\n",
    "\n",
    "mat = np.asmatrix(x)\n",
    "mat1 = mat.getT()\n",
    "##print(\"|\"*20)\n",
    "##print(f\"{A} \\n\\n {mat1} \\n\\n {b} \\n\\n\")\n",
    "##print(A * mat1 - b)\n",
    "\n"
   ]
  }
 ],
 "metadata": {
  "kernelspec": {
   "display_name": "Python 3",
   "language": "python",
   "name": "python3"
  },
  "language_info": {
   "codemirror_mode": {
    "name": "ipython",
    "version": 3
   },
   "file_extension": ".py",
   "mimetype": "text/x-python",
   "name": "python",
   "nbconvert_exporter": "python",
   "pygments_lexer": "ipython3",
   "version": "3.10.10"
  },
  "orig_nbformat": 4
 },
 "nbformat": 4,
 "nbformat_minor": 2
}
